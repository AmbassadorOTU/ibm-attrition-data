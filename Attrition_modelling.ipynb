{
 "cells": [
  {
   "cell_type": "code",
   "execution_count": 72,
   "id": "51f06ee7",
   "metadata": {},
   "outputs": [],
   "source": [
    "import matplotlib.pyplot as plt\n",
    "from matplotlib import style\n",
    "import seaborn as sns\n",
    "import pandas as pd\n",
    "import numpy as np"
   ]
  },
  {
   "cell_type": "code",
   "execution_count": 8,
   "id": "b12db86b",
   "metadata": {},
   "outputs": [],
   "source": [
    "attrition_data = pd.read_csv(\"IBM_Attrition_Data.csv\")"
   ]
  },
  {
   "cell_type": "code",
   "execution_count": 15,
   "id": "bc8122dc",
   "metadata": {
    "scrolled": true
   },
   "outputs": [
    {
     "data": {
      "text/html": [
       "<div>\n",
       "<style scoped>\n",
       "    .dataframe tbody tr th:only-of-type {\n",
       "        vertical-align: middle;\n",
       "    }\n",
       "\n",
       "    .dataframe tbody tr th {\n",
       "        vertical-align: top;\n",
       "    }\n",
       "\n",
       "    .dataframe thead th {\n",
       "        text-align: right;\n",
       "    }\n",
       "</style>\n",
       "<table border=\"1\" class=\"dataframe\">\n",
       "  <thead>\n",
       "    <tr style=\"text-align: right;\">\n",
       "      <th></th>\n",
       "      <th>Age</th>\n",
       "      <th>Attrition</th>\n",
       "      <th>Department</th>\n",
       "      <th>DistanceFromHome</th>\n",
       "      <th>Education</th>\n",
       "      <th>EducationField</th>\n",
       "      <th>EnvironmentSatisfaction</th>\n",
       "      <th>JobSatisfaction</th>\n",
       "      <th>MaritalStatus</th>\n",
       "      <th>MonthlyIncome</th>\n",
       "      <th>NumCompaniesWorked</th>\n",
       "      <th>WorkLifeBalance</th>\n",
       "      <th>YearsAtCompany</th>\n",
       "    </tr>\n",
       "  </thead>\n",
       "  <tbody>\n",
       "    <tr>\n",
       "      <th>0</th>\n",
       "      <td>41</td>\n",
       "      <td>Yes</td>\n",
       "      <td>Sales</td>\n",
       "      <td>1</td>\n",
       "      <td>2</td>\n",
       "      <td>Life Sciences</td>\n",
       "      <td>2</td>\n",
       "      <td>4</td>\n",
       "      <td>Single</td>\n",
       "      <td>5993</td>\n",
       "      <td>8</td>\n",
       "      <td>1</td>\n",
       "      <td>6</td>\n",
       "    </tr>\n",
       "    <tr>\n",
       "      <th>1</th>\n",
       "      <td>49</td>\n",
       "      <td>No</td>\n",
       "      <td>Research &amp; Development</td>\n",
       "      <td>8</td>\n",
       "      <td>1</td>\n",
       "      <td>Life Sciences</td>\n",
       "      <td>3</td>\n",
       "      <td>2</td>\n",
       "      <td>Married</td>\n",
       "      <td>5130</td>\n",
       "      <td>1</td>\n",
       "      <td>3</td>\n",
       "      <td>10</td>\n",
       "    </tr>\n",
       "    <tr>\n",
       "      <th>2</th>\n",
       "      <td>37</td>\n",
       "      <td>Yes</td>\n",
       "      <td>Research &amp; Development</td>\n",
       "      <td>2</td>\n",
       "      <td>2</td>\n",
       "      <td>Other</td>\n",
       "      <td>4</td>\n",
       "      <td>3</td>\n",
       "      <td>Single</td>\n",
       "      <td>2090</td>\n",
       "      <td>6</td>\n",
       "      <td>3</td>\n",
       "      <td>0</td>\n",
       "    </tr>\n",
       "    <tr>\n",
       "      <th>3</th>\n",
       "      <td>33</td>\n",
       "      <td>No</td>\n",
       "      <td>Research &amp; Development</td>\n",
       "      <td>3</td>\n",
       "      <td>4</td>\n",
       "      <td>Life Sciences</td>\n",
       "      <td>4</td>\n",
       "      <td>3</td>\n",
       "      <td>Married</td>\n",
       "      <td>2909</td>\n",
       "      <td>1</td>\n",
       "      <td>3</td>\n",
       "      <td>8</td>\n",
       "    </tr>\n",
       "    <tr>\n",
       "      <th>4</th>\n",
       "      <td>27</td>\n",
       "      <td>No</td>\n",
       "      <td>Research &amp; Development</td>\n",
       "      <td>2</td>\n",
       "      <td>1</td>\n",
       "      <td>Medical</td>\n",
       "      <td>1</td>\n",
       "      <td>2</td>\n",
       "      <td>Married</td>\n",
       "      <td>3468</td>\n",
       "      <td>9</td>\n",
       "      <td>3</td>\n",
       "      <td>2</td>\n",
       "    </tr>\n",
       "  </tbody>\n",
       "</table>\n",
       "</div>"
      ],
      "text/plain": [
       "   Age Attrition              Department  DistanceFromHome  Education  \\\n",
       "0   41       Yes                   Sales                 1          2   \n",
       "1   49        No  Research & Development                 8          1   \n",
       "2   37       Yes  Research & Development                 2          2   \n",
       "3   33        No  Research & Development                 3          4   \n",
       "4   27        No  Research & Development                 2          1   \n",
       "\n",
       "  EducationField  EnvironmentSatisfaction  JobSatisfaction MaritalStatus  \\\n",
       "0  Life Sciences                        2                4        Single   \n",
       "1  Life Sciences                        3                2       Married   \n",
       "2          Other                        4                3        Single   \n",
       "3  Life Sciences                        4                3       Married   \n",
       "4        Medical                        1                2       Married   \n",
       "\n",
       "   MonthlyIncome  NumCompaniesWorked  WorkLifeBalance  YearsAtCompany  \n",
       "0           5993                   8                1               6  \n",
       "1           5130                   1                3              10  \n",
       "2           2090                   6                3               0  \n",
       "3           2909                   1                3               8  \n",
       "4           3468                   9                3               2  "
      ]
     },
     "execution_count": 15,
     "metadata": {},
     "output_type": "execute_result"
    }
   ],
   "source": [
    "attrition_data.head()"
   ]
  },
  {
   "cell_type": "code",
   "execution_count": 32,
   "id": "c7cd2ea3",
   "metadata": {},
   "outputs": [
    {
     "data": {
      "text/html": [
       "<div>\n",
       "<style scoped>\n",
       "    .dataframe tbody tr th:only-of-type {\n",
       "        vertical-align: middle;\n",
       "    }\n",
       "\n",
       "    .dataframe tbody tr th {\n",
       "        vertical-align: top;\n",
       "    }\n",
       "\n",
       "    .dataframe thead th {\n",
       "        text-align: right;\n",
       "    }\n",
       "</style>\n",
       "<table border=\"1\" class=\"dataframe\">\n",
       "  <thead>\n",
       "    <tr style=\"text-align: right;\">\n",
       "      <th></th>\n",
       "      <th>Age</th>\n",
       "      <th>DistanceFromHome</th>\n",
       "      <th>Education</th>\n",
       "      <th>EnvironmentSatisfaction</th>\n",
       "      <th>JobSatisfaction</th>\n",
       "      <th>MonthlyIncome</th>\n",
       "      <th>NumCompaniesWorked</th>\n",
       "      <th>WorkLifeBalance</th>\n",
       "      <th>YearsAtCompany</th>\n",
       "    </tr>\n",
       "  </thead>\n",
       "  <tbody>\n",
       "    <tr>\n",
       "      <th>count</th>\n",
       "      <td>1470.000000</td>\n",
       "      <td>1470.000000</td>\n",
       "      <td>1470.000000</td>\n",
       "      <td>1470.000000</td>\n",
       "      <td>1470.000000</td>\n",
       "      <td>1470.000000</td>\n",
       "      <td>1470.000000</td>\n",
       "      <td>1470.000000</td>\n",
       "      <td>1470.000000</td>\n",
       "    </tr>\n",
       "    <tr>\n",
       "      <th>mean</th>\n",
       "      <td>36.923810</td>\n",
       "      <td>9.192517</td>\n",
       "      <td>2.912925</td>\n",
       "      <td>2.721769</td>\n",
       "      <td>2.728571</td>\n",
       "      <td>6502.931293</td>\n",
       "      <td>2.693197</td>\n",
       "      <td>2.761224</td>\n",
       "      <td>7.008163</td>\n",
       "    </tr>\n",
       "    <tr>\n",
       "      <th>std</th>\n",
       "      <td>9.135373</td>\n",
       "      <td>8.106864</td>\n",
       "      <td>1.024165</td>\n",
       "      <td>1.093082</td>\n",
       "      <td>1.102846</td>\n",
       "      <td>4707.956783</td>\n",
       "      <td>2.498009</td>\n",
       "      <td>0.706476</td>\n",
       "      <td>6.126525</td>\n",
       "    </tr>\n",
       "    <tr>\n",
       "      <th>min</th>\n",
       "      <td>18.000000</td>\n",
       "      <td>1.000000</td>\n",
       "      <td>1.000000</td>\n",
       "      <td>1.000000</td>\n",
       "      <td>1.000000</td>\n",
       "      <td>1009.000000</td>\n",
       "      <td>0.000000</td>\n",
       "      <td>1.000000</td>\n",
       "      <td>0.000000</td>\n",
       "    </tr>\n",
       "    <tr>\n",
       "      <th>25%</th>\n",
       "      <td>30.000000</td>\n",
       "      <td>2.000000</td>\n",
       "      <td>2.000000</td>\n",
       "      <td>2.000000</td>\n",
       "      <td>2.000000</td>\n",
       "      <td>2911.000000</td>\n",
       "      <td>1.000000</td>\n",
       "      <td>2.000000</td>\n",
       "      <td>3.000000</td>\n",
       "    </tr>\n",
       "    <tr>\n",
       "      <th>50%</th>\n",
       "      <td>36.000000</td>\n",
       "      <td>7.000000</td>\n",
       "      <td>3.000000</td>\n",
       "      <td>3.000000</td>\n",
       "      <td>3.000000</td>\n",
       "      <td>4919.000000</td>\n",
       "      <td>2.000000</td>\n",
       "      <td>3.000000</td>\n",
       "      <td>5.000000</td>\n",
       "    </tr>\n",
       "    <tr>\n",
       "      <th>75%</th>\n",
       "      <td>43.000000</td>\n",
       "      <td>14.000000</td>\n",
       "      <td>4.000000</td>\n",
       "      <td>4.000000</td>\n",
       "      <td>4.000000</td>\n",
       "      <td>8379.000000</td>\n",
       "      <td>4.000000</td>\n",
       "      <td>3.000000</td>\n",
       "      <td>9.000000</td>\n",
       "    </tr>\n",
       "    <tr>\n",
       "      <th>max</th>\n",
       "      <td>60.000000</td>\n",
       "      <td>29.000000</td>\n",
       "      <td>5.000000</td>\n",
       "      <td>4.000000</td>\n",
       "      <td>4.000000</td>\n",
       "      <td>19999.000000</td>\n",
       "      <td>9.000000</td>\n",
       "      <td>4.000000</td>\n",
       "      <td>40.000000</td>\n",
       "    </tr>\n",
       "  </tbody>\n",
       "</table>\n",
       "</div>"
      ],
      "text/plain": [
       "               Age  DistanceFromHome    Education  EnvironmentSatisfaction  \\\n",
       "count  1470.000000       1470.000000  1470.000000              1470.000000   \n",
       "mean     36.923810          9.192517     2.912925                 2.721769   \n",
       "std       9.135373          8.106864     1.024165                 1.093082   \n",
       "min      18.000000          1.000000     1.000000                 1.000000   \n",
       "25%      30.000000          2.000000     2.000000                 2.000000   \n",
       "50%      36.000000          7.000000     3.000000                 3.000000   \n",
       "75%      43.000000         14.000000     4.000000                 4.000000   \n",
       "max      60.000000         29.000000     5.000000                 4.000000   \n",
       "\n",
       "       JobSatisfaction  MonthlyIncome  NumCompaniesWorked  WorkLifeBalance  \\\n",
       "count      1470.000000    1470.000000         1470.000000      1470.000000   \n",
       "mean          2.728571    6502.931293            2.693197         2.761224   \n",
       "std           1.102846    4707.956783            2.498009         0.706476   \n",
       "min           1.000000    1009.000000            0.000000         1.000000   \n",
       "25%           2.000000    2911.000000            1.000000         2.000000   \n",
       "50%           3.000000    4919.000000            2.000000         3.000000   \n",
       "75%           4.000000    8379.000000            4.000000         3.000000   \n",
       "max           4.000000   19999.000000            9.000000         4.000000   \n",
       "\n",
       "       YearsAtCompany  \n",
       "count     1470.000000  \n",
       "mean         7.008163  \n",
       "std          6.126525  \n",
       "min          0.000000  \n",
       "25%          3.000000  \n",
       "50%          5.000000  \n",
       "75%          9.000000  \n",
       "max         40.000000  "
      ]
     },
     "execution_count": 32,
     "metadata": {},
     "output_type": "execute_result"
    }
   ],
   "source": [
    "attrition_data.describe()"
   ]
  },
  {
   "cell_type": "code",
   "execution_count": 43,
   "id": "9c02e6eb",
   "metadata": {},
   "outputs": [
    {
     "data": {
      "text/plain": [
       "Age                        False\n",
       "Attrition                  False\n",
       "Department                 False\n",
       "DistanceFromHome           False\n",
       "Education                  False\n",
       "EducationField             False\n",
       "EnvironmentSatisfaction    False\n",
       "JobSatisfaction            False\n",
       "MaritalStatus              False\n",
       "MonthlyIncome              False\n",
       "NumCompaniesWorked         False\n",
       "WorkLifeBalance            False\n",
       "YearsAtCompany             False\n",
       "dtype: bool"
      ]
     },
     "execution_count": 43,
     "metadata": {},
     "output_type": "execute_result"
    }
   ],
   "source": [
    "attrition_data.isna().any()"
   ]
  },
  {
   "cell_type": "code",
   "execution_count": 60,
   "id": "cd96ba4d",
   "metadata": {},
   "outputs": [
    {
     "data": {
      "text/plain": [
       "<AxesSubplot:xlabel='Age'>"
      ]
     },
     "execution_count": 60,
     "metadata": {},
     "output_type": "execute_result"
    },
    {
     "data": {
      "image/png": "[encoded data removed]",
      "text/plain": [
       "<Figure size 432x288 with 1 Axes>"
      ]
     },
     "metadata": {
      "needs_background": "light"
     },
     "output_type": "display_data"
    }
   ],
   "source": [
    "sns.boxplot(x=attrition_data['Age'])"
   ]
  },
  {
   "cell_type": "code",
   "execution_count": 81,
   "id": "636e37e4",
   "metadata": {},
   "outputs": [],
   "source": [
    "def plot_distibution(data, x_data, y_data):\n",
    "    style.use('ggplot')\n",
    "    plt.figure(figsize=(12,7))\n",
    "    plt.hist(data, bins=20)\n",
    "    plt.xlabel(x_data)\n",
    "    plt.ylabel(y_data)\n",
    "    plt.show()\n",
    "    \n",
    "def central_tendency(data):\n",
    "    print('Mean = ', data.mean())\n",
    "    print('Median = ', data.median())\n",
    "    print('Mode = ', data.mode())\n",
    "    \n"
   ]
  },
  {
   "cell_type": "code",
   "execution_count": 82,
   "id": "8b44a5e0",
   "metadata": {
    "scrolled": true
   },
   "outputs": [
    {
     "data": {
      "image/png": "[encoded data removed]",
      "text/plain": [
       "<Figure size 864x504 with 1 Axes>"
      ]
     },
     "metadata": {},
     "output_type": "display_data"
    }
   ],
   "source": [
    "plot_distibution(attrition_data['Age'], 'IBM employee age distribution', 'number of occurrence')"
   ]
  },
  {
   "cell_type": "code",
   "execution_count": 80,
   "id": "33a75e8b",
   "metadata": {},
   "outputs": [
    {
     "data": {
      "text/plain": [
       "<AxesSubplot:xlabel='Age', ylabel='Count'>"
      ]
     },
     "execution_count": 80,
     "metadata": {},
     "output_type": "execute_result"
    },
    {
     "data": {
      "image/png": "[encoded data removed]",
      "text/plain": [
       "<Figure size 864x504 with 1 Axes>"
      ]
     },
     "metadata": {},
     "output_type": "display_data"
    }
   ],
   "source": [
    "plt.figure(figsize=(12, 7))\n",
    "\n",
    "sns.histplot(data=attrition_data, x='Age', hue='Attrition')"
   ]
  },
  {
   "cell_type": "code",
   "execution_count": 57,
   "id": "489a84e2",
   "metadata": {},
   "outputs": [
    {
     "name": "stdout",
     "output_type": "stream",
     "text": [
      "Mean =  36.923809523809524\n",
      "Median =  36.0\n",
      "Mode =  0    35\n",
      "Name: Age, dtype: int64\n"
     ]
    }
   ],
   "source": [
    "central_tendency(attrition_data['Age'])"
   ]
  },
  {
   "cell_type": "code",
   "execution_count": 34,
   "id": "f1648a8b",
   "metadata": {},
   "outputs": [
    {
     "data": {
      "text/html": [
       "<div>\n",
       "<style scoped>\n",
       "    .dataframe tbody tr th:only-of-type {\n",
       "        vertical-align: middle;\n",
       "    }\n",
       "\n",
       "    .dataframe tbody tr th {\n",
       "        vertical-align: top;\n",
       "    }\n",
       "\n",
       "    .dataframe thead th {\n",
       "        text-align: right;\n",
       "    }\n",
       "</style>\n",
       "<table border=\"1\" class=\"dataframe\">\n",
       "  <thead>\n",
       "    <tr style=\"text-align: right;\">\n",
       "      <th></th>\n",
       "      <th>Attrition</th>\n",
       "      <th>Age</th>\n",
       "    </tr>\n",
       "  </thead>\n",
       "  <tbody>\n",
       "    <tr>\n",
       "      <th>0</th>\n",
       "      <td>Yes</td>\n",
       "      <td>41</td>\n",
       "    </tr>\n",
       "    <tr>\n",
       "      <th>1</th>\n",
       "      <td>No</td>\n",
       "      <td>49</td>\n",
       "    </tr>\n",
       "    <tr>\n",
       "      <th>2</th>\n",
       "      <td>Yes</td>\n",
       "      <td>37</td>\n",
       "    </tr>\n",
       "    <tr>\n",
       "      <th>3</th>\n",
       "      <td>No</td>\n",
       "      <td>33</td>\n",
       "    </tr>\n",
       "    <tr>\n",
       "      <th>4</th>\n",
       "      <td>No</td>\n",
       "      <td>27</td>\n",
       "    </tr>\n",
       "  </tbody>\n",
       "</table>\n",
       "</div>"
      ],
      "text/plain": [
       "  Attrition  Age\n",
       "0       Yes   41\n",
       "1        No   49\n",
       "2       Yes   37\n",
       "3        No   33\n",
       "4        No   27"
      ]
     },
     "execution_count": 34,
     "metadata": {},
     "output_type": "execute_result"
    }
   ],
   "source": [
    "attr_age = attrition_data[['Attrition', 'Age']]\n",
    "attr_age.head()"
   ]
  },
  {
   "cell_type": "code",
   "execution_count": 39,
   "id": "f3afe8c2",
   "metadata": {},
   "outputs": [
    {
     "data": {
      "text/html": [
       "<div>\n",
       "<style scoped>\n",
       "    .dataframe tbody tr th:only-of-type {\n",
       "        vertical-align: middle;\n",
       "    }\n",
       "\n",
       "    .dataframe tbody tr th {\n",
       "        vertical-align: top;\n",
       "    }\n",
       "\n",
       "    .dataframe thead tr th {\n",
       "        text-align: left;\n",
       "    }\n",
       "\n",
       "    .dataframe thead tr:last-of-type th {\n",
       "        text-align: right;\n",
       "    }\n",
       "</style>\n",
       "<table border=\"1\" class=\"dataframe\">\n",
       "  <thead>\n",
       "    <tr>\n",
       "      <th></th>\n",
       "      <th colspan=\"8\" halign=\"left\">Age</th>\n",
       "    </tr>\n",
       "    <tr>\n",
       "      <th></th>\n",
       "      <th>count</th>\n",
       "      <th>mean</th>\n",
       "      <th>std</th>\n",
       "      <th>min</th>\n",
       "      <th>25%</th>\n",
       "      <th>50%</th>\n",
       "      <th>75%</th>\n",
       "      <th>max</th>\n",
       "    </tr>\n",
       "    <tr>\n",
       "      <th>Attrition</th>\n",
       "      <th></th>\n",
       "      <th></th>\n",
       "      <th></th>\n",
       "      <th></th>\n",
       "      <th></th>\n",
       "      <th></th>\n",
       "      <th></th>\n",
       "      <th></th>\n",
       "    </tr>\n",
       "  </thead>\n",
       "  <tbody>\n",
       "    <tr>\n",
       "      <th>No</th>\n",
       "      <td>1233.0</td>\n",
       "      <td>37.561233</td>\n",
       "      <td>8.88836</td>\n",
       "      <td>18.0</td>\n",
       "      <td>31.0</td>\n",
       "      <td>36.0</td>\n",
       "      <td>43.0</td>\n",
       "      <td>60.0</td>\n",
       "    </tr>\n",
       "    <tr>\n",
       "      <th>Yes</th>\n",
       "      <td>237.0</td>\n",
       "      <td>33.607595</td>\n",
       "      <td>9.68935</td>\n",
       "      <td>18.0</td>\n",
       "      <td>28.0</td>\n",
       "      <td>32.0</td>\n",
       "      <td>39.0</td>\n",
       "      <td>58.0</td>\n",
       "    </tr>\n",
       "  </tbody>\n",
       "</table>\n",
       "</div>"
      ],
      "text/plain": [
       "              Age                                                  \n",
       "            count       mean      std   min   25%   50%   75%   max\n",
       "Attrition                                                          \n",
       "No         1233.0  37.561233  8.88836  18.0  31.0  36.0  43.0  60.0\n",
       "Yes         237.0  33.607595  9.68935  18.0  28.0  32.0  39.0  58.0"
      ]
     },
     "execution_count": 39,
     "metadata": {},
     "output_type": "execute_result"
    }
   ],
   "source": [
    "attr_age.groupby(['Attrition']).describe()"
   ]
  },
  {
   "cell_type": "code",
   "execution_count": 50,
   "id": "8ed3bc2c",
   "metadata": {},
   "outputs": [
    {
     "name": "stdout",
     "output_type": "stream",
     "text": [
      "(237, 13)\n"
     ]
    },
    {
     "data": {
      "text/html": [
       "<div>\n",
       "<style scoped>\n",
       "    .dataframe tbody tr th:only-of-type {\n",
       "        vertical-align: middle;\n",
       "    }\n",
       "\n",
       "    .dataframe tbody tr th {\n",
       "        vertical-align: top;\n",
       "    }\n",
       "\n",
       "    .dataframe thead th {\n",
       "        text-align: right;\n",
       "    }\n",
       "</style>\n",
       "<table border=\"1\" class=\"dataframe\">\n",
       "  <thead>\n",
       "    <tr style=\"text-align: right;\">\n",
       "      <th></th>\n",
       "      <th>Age</th>\n",
       "      <th>Attrition</th>\n",
       "      <th>Department</th>\n",
       "      <th>DistanceFromHome</th>\n",
       "      <th>Education</th>\n",
       "      <th>EducationField</th>\n",
       "      <th>EnvironmentSatisfaction</th>\n",
       "      <th>JobSatisfaction</th>\n",
       "      <th>MaritalStatus</th>\n",
       "      <th>MonthlyIncome</th>\n",
       "      <th>NumCompaniesWorked</th>\n",
       "      <th>WorkLifeBalance</th>\n",
       "      <th>YearsAtCompany</th>\n",
       "    </tr>\n",
       "  </thead>\n",
       "  <tbody>\n",
       "    <tr>\n",
       "      <th>0</th>\n",
       "      <td>41</td>\n",
       "      <td>Yes</td>\n",
       "      <td>Sales</td>\n",
       "      <td>1</td>\n",
       "      <td>2</td>\n",
       "      <td>Life Sciences</td>\n",
       "      <td>2</td>\n",
       "      <td>4</td>\n",
       "      <td>Single</td>\n",
       "      <td>5993</td>\n",
       "      <td>8</td>\n",
       "      <td>1</td>\n",
       "      <td>6</td>\n",
       "    </tr>\n",
       "    <tr>\n",
       "      <th>2</th>\n",
       "      <td>37</td>\n",
       "      <td>Yes</td>\n",
       "      <td>Research &amp; Development</td>\n",
       "      <td>2</td>\n",
       "      <td>2</td>\n",
       "      <td>Other</td>\n",
       "      <td>4</td>\n",
       "      <td>3</td>\n",
       "      <td>Single</td>\n",
       "      <td>2090</td>\n",
       "      <td>6</td>\n",
       "      <td>3</td>\n",
       "      <td>0</td>\n",
       "    </tr>\n",
       "    <tr>\n",
       "      <th>14</th>\n",
       "      <td>28</td>\n",
       "      <td>Yes</td>\n",
       "      <td>Research &amp; Development</td>\n",
       "      <td>24</td>\n",
       "      <td>3</td>\n",
       "      <td>Life Sciences</td>\n",
       "      <td>3</td>\n",
       "      <td>3</td>\n",
       "      <td>Single</td>\n",
       "      <td>2028</td>\n",
       "      <td>5</td>\n",
       "      <td>3</td>\n",
       "      <td>4</td>\n",
       "    </tr>\n",
       "    <tr>\n",
       "      <th>21</th>\n",
       "      <td>36</td>\n",
       "      <td>Yes</td>\n",
       "      <td>Sales</td>\n",
       "      <td>9</td>\n",
       "      <td>4</td>\n",
       "      <td>Life Sciences</td>\n",
       "      <td>3</td>\n",
       "      <td>1</td>\n",
       "      <td>Single</td>\n",
       "      <td>3407</td>\n",
       "      <td>7</td>\n",
       "      <td>3</td>\n",
       "      <td>5</td>\n",
       "    </tr>\n",
       "    <tr>\n",
       "      <th>24</th>\n",
       "      <td>34</td>\n",
       "      <td>Yes</td>\n",
       "      <td>Research &amp; Development</td>\n",
       "      <td>6</td>\n",
       "      <td>1</td>\n",
       "      <td>Medical</td>\n",
       "      <td>2</td>\n",
       "      <td>1</td>\n",
       "      <td>Single</td>\n",
       "      <td>2960</td>\n",
       "      <td>2</td>\n",
       "      <td>3</td>\n",
       "      <td>4</td>\n",
       "    </tr>\n",
       "  </tbody>\n",
       "</table>\n",
       "</div>"
      ],
      "text/plain": [
       "    Age Attrition              Department  DistanceFromHome  Education  \\\n",
       "0    41       Yes                   Sales                 1          2   \n",
       "2    37       Yes  Research & Development                 2          2   \n",
       "14   28       Yes  Research & Development                24          3   \n",
       "21   36       Yes                   Sales                 9          4   \n",
       "24   34       Yes  Research & Development                 6          1   \n",
       "\n",
       "   EducationField  EnvironmentSatisfaction  JobSatisfaction MaritalStatus  \\\n",
       "0   Life Sciences                        2                4        Single   \n",
       "2           Other                        4                3        Single   \n",
       "14  Life Sciences                        3                3        Single   \n",
       "21  Life Sciences                        3                1        Single   \n",
       "24        Medical                        2                1        Single   \n",
       "\n",
       "    MonthlyIncome  NumCompaniesWorked  WorkLifeBalance  YearsAtCompany  \n",
       "0            5993                   8                1               6  \n",
       "2            2090                   6                3               0  \n",
       "14           2028                   5                3               4  \n",
       "21           3407                   7                3               5  \n",
       "24           2960                   2                3               4  "
      ]
     },
     "execution_count": 50,
     "metadata": {},
     "output_type": "execute_result"
    }
   ],
   "source": [
    "left_employees = attrition_data['Attrition'] == 'Yes'\n",
    "left_employees = attrition_data[left_employees]\n",
    "print(left_employees.shape)\n",
    "left_employees.head()"
   ]
  },
  {
   "cell_type": "code",
   "execution_count": 62,
   "id": "71e0d9de",
   "metadata": {},
   "outputs": [
    {
     "data": {
      "text/html": [
       "<div>\n",
       "<style scoped>\n",
       "    .dataframe tbody tr th:only-of-type {\n",
       "        vertical-align: middle;\n",
       "    }\n",
       "\n",
       "    .dataframe tbody tr th {\n",
       "        vertical-align: top;\n",
       "    }\n",
       "\n",
       "    .dataframe thead th {\n",
       "        text-align: right;\n",
       "    }\n",
       "</style>\n",
       "<table border=\"1\" class=\"dataframe\">\n",
       "  <thead>\n",
       "    <tr style=\"text-align: right;\">\n",
       "      <th></th>\n",
       "      <th>Age</th>\n",
       "      <th>DistanceFromHome</th>\n",
       "      <th>Education</th>\n",
       "      <th>EnvironmentSatisfaction</th>\n",
       "      <th>JobSatisfaction</th>\n",
       "      <th>MonthlyIncome</th>\n",
       "      <th>NumCompaniesWorked</th>\n",
       "      <th>WorkLifeBalance</th>\n",
       "      <th>YearsAtCompany</th>\n",
       "    </tr>\n",
       "  </thead>\n",
       "  <tbody>\n",
       "    <tr>\n",
       "      <th>count</th>\n",
       "      <td>237.000000</td>\n",
       "      <td>237.000000</td>\n",
       "      <td>237.000000</td>\n",
       "      <td>237.000000</td>\n",
       "      <td>237.000000</td>\n",
       "      <td>237.000000</td>\n",
       "      <td>237.000000</td>\n",
       "      <td>237.000000</td>\n",
       "      <td>237.000000</td>\n",
       "    </tr>\n",
       "    <tr>\n",
       "      <th>mean</th>\n",
       "      <td>33.607595</td>\n",
       "      <td>10.632911</td>\n",
       "      <td>2.839662</td>\n",
       "      <td>2.464135</td>\n",
       "      <td>2.468354</td>\n",
       "      <td>4787.092827</td>\n",
       "      <td>2.940928</td>\n",
       "      <td>2.658228</td>\n",
       "      <td>5.130802</td>\n",
       "    </tr>\n",
       "    <tr>\n",
       "      <th>std</th>\n",
       "      <td>9.689350</td>\n",
       "      <td>8.452525</td>\n",
       "      <td>1.008244</td>\n",
       "      <td>1.169791</td>\n",
       "      <td>1.118058</td>\n",
       "      <td>3640.210367</td>\n",
       "      <td>2.678519</td>\n",
       "      <td>0.816453</td>\n",
       "      <td>5.949984</td>\n",
       "    </tr>\n",
       "    <tr>\n",
       "      <th>min</th>\n",
       "      <td>18.000000</td>\n",
       "      <td>1.000000</td>\n",
       "      <td>1.000000</td>\n",
       "      <td>1.000000</td>\n",
       "      <td>1.000000</td>\n",
       "      <td>1009.000000</td>\n",
       "      <td>0.000000</td>\n",
       "      <td>1.000000</td>\n",
       "      <td>0.000000</td>\n",
       "    </tr>\n",
       "    <tr>\n",
       "      <th>25%</th>\n",
       "      <td>28.000000</td>\n",
       "      <td>3.000000</td>\n",
       "      <td>2.000000</td>\n",
       "      <td>1.000000</td>\n",
       "      <td>1.000000</td>\n",
       "      <td>2373.000000</td>\n",
       "      <td>1.000000</td>\n",
       "      <td>2.000000</td>\n",
       "      <td>1.000000</td>\n",
       "    </tr>\n",
       "    <tr>\n",
       "      <th>50%</th>\n",
       "      <td>32.000000</td>\n",
       "      <td>9.000000</td>\n",
       "      <td>3.000000</td>\n",
       "      <td>3.000000</td>\n",
       "      <td>3.000000</td>\n",
       "      <td>3202.000000</td>\n",
       "      <td>1.000000</td>\n",
       "      <td>3.000000</td>\n",
       "      <td>3.000000</td>\n",
       "    </tr>\n",
       "    <tr>\n",
       "      <th>75%</th>\n",
       "      <td>39.000000</td>\n",
       "      <td>17.000000</td>\n",
       "      <td>4.000000</td>\n",
       "      <td>4.000000</td>\n",
       "      <td>3.000000</td>\n",
       "      <td>5916.000000</td>\n",
       "      <td>5.000000</td>\n",
       "      <td>3.000000</td>\n",
       "      <td>7.000000</td>\n",
       "    </tr>\n",
       "    <tr>\n",
       "      <th>max</th>\n",
       "      <td>58.000000</td>\n",
       "      <td>29.000000</td>\n",
       "      <td>5.000000</td>\n",
       "      <td>4.000000</td>\n",
       "      <td>4.000000</td>\n",
       "      <td>19859.000000</td>\n",
       "      <td>9.000000</td>\n",
       "      <td>4.000000</td>\n",
       "      <td>40.000000</td>\n",
       "    </tr>\n",
       "  </tbody>\n",
       "</table>\n",
       "</div>"
      ],
      "text/plain": [
       "              Age  DistanceFromHome   Education  EnvironmentSatisfaction  \\\n",
       "count  237.000000        237.000000  237.000000               237.000000   \n",
       "mean    33.607595         10.632911    2.839662                 2.464135   \n",
       "std      9.689350          8.452525    1.008244                 1.169791   \n",
       "min     18.000000          1.000000    1.000000                 1.000000   \n",
       "25%     28.000000          3.000000    2.000000                 1.000000   \n",
       "50%     32.000000          9.000000    3.000000                 3.000000   \n",
       "75%     39.000000         17.000000    4.000000                 4.000000   \n",
       "max     58.000000         29.000000    5.000000                 4.000000   \n",
       "\n",
       "       JobSatisfaction  MonthlyIncome  NumCompaniesWorked  WorkLifeBalance  \\\n",
       "count       237.000000     237.000000          237.000000       237.000000   \n",
       "mean          2.468354    4787.092827            2.940928         2.658228   \n",
       "std           1.118058    3640.210367            2.678519         0.816453   \n",
       "min           1.000000    1009.000000            0.000000         1.000000   \n",
       "25%           1.000000    2373.000000            1.000000         2.000000   \n",
       "50%           3.000000    3202.000000            1.000000         3.000000   \n",
       "75%           3.000000    5916.000000            5.000000         3.000000   \n",
       "max           4.000000   19859.000000            9.000000         4.000000   \n",
       "\n",
       "       YearsAtCompany  \n",
       "count      237.000000  \n",
       "mean         5.130802  \n",
       "std          5.949984  \n",
       "min          0.000000  \n",
       "25%          1.000000  \n",
       "50%          3.000000  \n",
       "75%          7.000000  \n",
       "max         40.000000  "
      ]
     },
     "execution_count": 62,
     "metadata": {},
     "output_type": "execute_result"
    }
   ],
   "source": [
    "left_employees.describe()"
   ]
  },
  {
   "cell_type": "code",
   "execution_count": 61,
   "id": "323572be",
   "metadata": {
    "scrolled": true
   },
   "outputs": [
    {
     "data": {
      "text/plain": [
       "<AxesSubplot:xlabel='Age'>"
      ]
     },
     "execution_count": 61,
     "metadata": {},
     "output_type": "execute_result"
    },
    {
     "data": {
      "image/png": "[encoded data removed]",
      "text/plain": [
       "<Figure size 432x288 with 1 Axes>"
      ]
     },
     "metadata": {
      "needs_background": "light"
     },
     "output_type": "display_data"
    }
   ],
   "source": [
    "sns.boxplot(x=left_employees['Age'])"
   ]
  },
  {
   "cell_type": "code",
   "execution_count": 83,
   "id": "99f16125",
   "metadata": {
    "scrolled": true
   },
   "outputs": [
    {
     "data": {
      "image/png": "[encoded data removed]",
      "text/plain": [
       "<Figure size 864x504 with 1 Axes>"
      ]
     },
     "metadata": {},
     "output_type": "display_data"
    }
   ],
   "source": [
    "plot_distibution(left_employees['Age'], 'Left employee age distribution', 'number of occurrence')"
   ]
  },
  {
   "cell_type": "code",
   "execution_count": 58,
   "id": "d24e9b1b",
   "metadata": {},
   "outputs": [
    {
     "name": "stdout",
     "output_type": "stream",
     "text": [
      "Mean =  33.607594936708864\n",
      "Median =  32.0\n",
      "Mode =  0    29\n",
      "1    31\n",
      "Name: Age, dtype: int64\n"
     ]
    }
   ],
   "source": [
    "central_tendency(left_employees['Age'])"
   ]
  },
  {
   "cell_type": "code",
   "execution_count": 59,
   "id": "9ea30d6c",
   "metadata": {
    "scrolled": true
   },
   "outputs": [
    {
     "data": {
      "text/plain": [
       "array(['Life Sciences', 'Other', 'Medical', 'Marketing',\n",
       "       'Technical Degree', 'Human Resources'], dtype=object)"
      ]
     },
     "execution_count": 59,
     "metadata": {},
     "output_type": "execute_result"
    }
   ],
   "source": [
    "attrition_data['EducationField'].unique()"
   ]
  },
  {
   "cell_type": "code",
   "execution_count": 67,
   "id": "081aad1f",
   "metadata": {},
   "outputs": [
    {
     "data": {
      "text/plain": [
       "{(18, 'No'): [301, 727, 972, 1311], (18, 'Yes'): [296, 457, 828, 1153], (19, 'No'): [149, 853, 909], (19, 'Yes'): [127, 171, 177, 422, 688, 892], (20, 'No'): [487, 856, 876, 1178, 1197], (20, 'Yes'): [102, 513, 662, 689, 731, 776], (21, 'No'): [23, 274, 362, 496, 815, 1152, 1436], (21, 'Yes'): [357, 370, 663, 777, 915, 1271], (22, 'No'): [17, 109, 128, 160, 206, 383, 498, 630, 734, 1137, 1423], (22, 'Yes'): [443, 666, 860, 1273, 1339], (23, 'No'): [86, 345, 516, 550, 565, 910, 1082, 1127, 1238, 1408], (23, 'Yes'): [585, 1201, 1213, 1438], (24, 'No'): [20, 96, 113, 380, 470, 474, 476, 586, 640, 724, 841, 1025, 1061, 1097, 1168, 1217, 1230, 1245, 1407], (24, 'Yes'): [34, 414, 479, 525, 871, 1060, 1222], (25, 'No'): [108, 138, 255, 267, 397, 478, 517, 563, 618, 634, 638, 885, 934, 965, 993, 1003, 1174, 1411, 1413, 1433], (25, 'Yes'): [107, 405, 683, 796, 911, 1021], (26, 'No'): [54, 125, 134, 278, 284, 355, 418, 460, 475, 505, 571, 685, 733, 769, 781, 843, 912, 998, 1004, 1118, 1206, 1224, 1309, 1349, 1361, 1386, 1464], (26, 'Yes'): [42, 288, 293, 382, 453, 463, 573, 614, 748, 762, 797, 1297], (27, 'No'): [4, 41, 43, 161, 164, 170, 191, 200, 212, 318, 320, 331, 339, 373, 485, 512, 521, 530, 537, 554, 576, 610, 615, 670, 717, 739, 786, 833, 889, 902, 970, 974, 996, 1017, 1149, 1169, 1170, 1248, 1317, 1328, 1334, 1350, 1367, 1393, 1467], (27, 'Yes'): [495, 997, 1379], (28, 'No'): [97, 162, 272, 289, 302, 374, 404, 612, 629, 659, 668, 764, 788, 793, 809, 819, 827, 868, 921, 929, 933, 944, 984, 1041, 1069, 1070, 1073, 1151, 1283, 1307, 1323, 1337, 1364, 1381], (28, 'Yes'): [14, 51, 264, 323, 540, 598, 780, 800, 842, 1056, 1068, 1136, 1369, 1390], (29, 'No'): [11, 15, 71, 155, 227, 252, 254, 265, 282, 337, 343, 349, 371, 420, 454, 507, 519, 546, 555, 572, 594, 657, 697, 808, 823, 825, 852, 859, 893, 903, 905, 1005, 1063, 1072, 1090, 1104, 1122, 1125, 1172, 1188, 1219, 1250, 1258, 1318, 1324, 1329, 1343, 1387, 1459, 1460], (29, 'Yes'): [205, 217, 229, 336, 421, 589, 645, 711, 836, 932, 1007, 1057, 1077, 1249, 1313, 1332, 1365, 1442], (30, 'No'): [7, 32, 44, 80, 88, 92, 120, 139, 143, 145, 146, 167, 173, 211, 324, 338, 354, 381, 402, 410, 419, 423, 426, 437, 501, 545, 581, 602, 623, 702, 730, 782, 844, 865, 874, 886, 931, 941, 948, 1013, 1049, 1052, 1064, 1109, 1141, 1233, 1244, 1251, 1259, 1296, 1412], (30, 'Yes'): [214, 216, 385, 480, 720, 732, 1106, 1246, 1338], (31, 'No'): [12, 58, 72, 75, 180, 224, 245, 266, 292, 303, 309, 310, 312, 321, 325, 342, 369, 394, 399, 434, 450, 456, 484, 644, 675, 679, 690, 726, 818, 895, 896, 950, 1014, 1030, 1035, 1144, 1191, 1227, 1239, 1247, 1274, 1306, 1341, 1358, 1360, 1382, 1389, 1402, 1405, 1417, 1463], (31, 'Yes'): [124, 132, 259, 439, 482, 709, 831, 952, 980, 985, 1012, 1016, 1033, 1036, 1085, 1257, 1312, 1395], (32, 'No'): [5, 16, 60, 73, 94, 101, 144, 154, 169, 238, 241, 260, 262, 306, 319, 322, 351, 500, 527, 531, 558, 600, 622, 626, 637, 641, 682, 692, 756, 850, 880, 881, 935, 991, 1026, 1075, 1101, 1113, 1139, 1190, 1226, 1241, 1260, 1319, 1388, 1394, 1426, 1428, 1431, 1449], (32, 'Yes'): [26, 140, 210, 239, 469, 656, 939, 1205, 1237, 1326, 1375], (33, 'No'): [3, 30, 39, 55, 121, 176, 185, 221, 246, 313, 328, 455, 499, 509, 590, 619, 655, 673, 694, 710, 712, 715, 754, 790, 802, 863, 872, 883, 908, 990, 1047, 1066, 1074, 1091, 1095, 1105, 1189, 1198, 1210, 1253, 1265, 1282, 1363, 1398, 1415, 1425], (33, 'Yes'): [234, 236, 363, 435, 436, 514, 562, 591, 792, 798, 829, 1255], (34, 'No'): [13, 22, 46, 84, 103, 114, 116, 159, 181, 188, 202, 247, 393, 432, 462, 481, 494, 503, 524, 549, 560, 567, 574, 579, 583, 606, 613, 671, 757, 763, 794, 803, 822, 834, 847, 906, 917, 920, 923, 958, 964, 977, 979, 983, 1015, 1027, 1048, 1055, 1084, 1087, 1115, 1117, 1131, 1146, 1179, 1208, 1212, 1252, 1267, 1270, 1300, 1342, 1359, 1368, 1384, 1385, 1446, 1469], (34, 'Yes'): [24, 111, 378, 415, 440, 1039, 1058, 1290, 1353], (35, 'No'): [10, 37, 40, 49, 53, 56, 57, 68, 76, 81, 151, 196, 228, 276, 297, 344, 372, 430, 438, 447, 461, 483, 508, 515, 557, 580, 596, 611, 620, 635, 647, 676, 698, 704, 729, 740, 820, 835, 840, 846, 848, 870, 888, 924, 961, 973, 1002, 1059, 1081, 1100, 1108, 1123, 1130, 1134, 1150, 1157, 1215, 1232, 1288, 1302, 1345, 1380, 1392, 1422, 1424, 1450, 1456, 1458], (35, 'Yes'): [192, 636, 725, 791, 981, 1110, 1162, 1167, 1186, 1281], (36, 'No'): [9, 38, 64, 66, 74, 117, 118, 135, 172, 207, 220, 269, 291, 298, 305, 358, 359, 377, 384, 442, 511, 541, 569, 593, 599, 621, 633, 664, 680, 687, 708, 773, 817, 873, 882, 900, 927, 942, 968, 1011, 1018, 1019, 1102, 1121, 1128, 1145, 1173, 1180, 1182, 1183, 1199, 1220, 1278, 1315, 1340, 1347, 1355, 1383, 1439, 1440, 1447, 1453, 1465], (36, 'Yes'): [21, 69, 693, 752, 761, 1236], (37, 'No'): [47, 59, 78, 104, 115, 195, 222, 226, 248, 273, 275, 285, 294, 340, 353, 364, 386, 389, 398, 464, 467, 472, 486, 506, 522, 577, 628, 648, 652, 767, 795, 832, 855, 989, 1001, 1022, 1089, 1158, 1163, 1211, 1276, 1280, 1344, 1432], (37, 'Yes'): [2, 100, 250, 695, 744, 1291], (38, 'No'): [8, 19, 61, 83, 142, 168, 179, 198, 199, 223, 261, 277, 287, 307, 341, 416, 471, 490, 518, 529, 542, 559, 578, 605, 642, 681, 703, 722, 747, 765, 784, 807, 811, 826, 963, 982, 1107, 1119, 1120, 1161, 1187, 1193, 1202, 1256, 1261, 1272, 1289, 1308, 1373, 1376, 1391, 1400, 1416, 1418, 1430, 1451], (38, 'Yes'): [204, 1112], (39, 'No'): [137, 240, 251, 304, 314, 326, 400, 449, 526, 551, 654, 705, 738, 753, 816, 937, 949, 986, 992, 1079, 1124, 1148, 1155, 1159, 1175, 1240, 1284, 1292, 1335, 1366, 1372, 1403, 1429, 1437, 1462, 1466], (39, 'Yes'): [33, 327, 669, 813, 940, 1032], (40, 'No'): [90, 150, 158, 186, 203, 208, 243, 257, 335, 361, 387, 391, 417, 448, 458, 533, 553, 582, 601, 684, 691, 768, 785, 814, 837, 845, 866, 884, 957, 959, 967, 978, 1029, 1040, 1045, 1094, 1096, 1098, 1132, 1156, 1164, 1229, 1242, 1286, 1299, 1304, 1348, 1409, 1410, 1427, 1455, 1457], (40, 'Yes'): [368, 706, 946, 1083, 1171], (41, 'No'): [133, 147, 148, 166, 215, 242, 300, 346, 403, 446, 459, 466, 535, 538, 686, 716, 737, 746, 783, 830, 951, 960, 988, 1028, 1196, 1218, 1228, 1266, 1294, 1295, 1356, 1420, 1445, 1448], (41, 'Yes'): [0, 45, 182, 366, 667, 864], (42, 'No'): [27, 197, 231, 253, 256, 281, 295, 348, 350, 356, 388, 409, 413, 441, 451, 488, 584, 597, 604, 632, 643, 672, 741, 799, 824, 839, 878, 887, 925, 954, 999, 1050, 1088, 1093, 1129, 1263, 1287, 1320, 1325, 1357, 1378, 1404, 1419, 1443], (42, 'Yes'): [547, 838], (43, 'No'): [35, 119, 130, 193, 235, 315, 330, 333, 390, 395, 396, 489, 491, 548, 609, 650, 661, 775, 812, 898, 926, 995, 1133, 1185, 1216, 1269, 1293, 1316, 1330, 1399], (43, 'Yes'): [849, 1262], (44, 'No'): [28, 31, 52, 99, 493, 497, 543, 617, 631, 658, 750, 862, 875, 891, 907, 922, 1042, 1046, 1051, 1062, 1078, 1140, 1165, 1200, 1214, 1352, 1435], (44, 'Yes'): [286, 789, 857, 928, 953, 1279], (45, 'No'): [67, 77, 141, 153, 174, 194, 218, 244, 249, 268, 311, 334, 407, 452, 564, 603, 625, 696, 713, 718, 755, 759, 805, 854, 936, 1034, 1037, 1092, 1099, 1142, 1143, 1160, 1221, 1225, 1243, 1314, 1346, 1362, 1454], (45, 'Yes'): [504, 913], (46, 'No'): [29, 48, 79, 93, 178, 209, 263, 365, 412, 429, 433, 465, 723, 770, 778, 810, 861, 869, 877, 916, 943, 1080, 1135, 1231, 1235, 1277, 1285, 1322, 1327], (46, 'Yes'): [89, 1031, 1298, 1333], (47, 'No'): [329, 347, 428, 532, 544, 592, 651, 665, 707, 719, 1020, 1024, 1067, 1154, 1194, 1234, 1303, 1321, 1370, 1414, 1421], (47, 'Yes'): [271, 566, 1223], (48, 'No'): [352, 444, 492, 520, 678, 735, 736, 804, 901, 904, 969, 1038, 1103, 1114, 1166, 1331, 1351], (48, 'Yes'): [50, 1204], (49, 'No'): [1, 129, 201, 290, 316, 375, 473, 639, 677, 821, 899, 1044, 1054, 1071, 1147, 1176, 1181, 1192, 1195, 1254, 1377, 1468], (49, 'Yes'): [607, 1006], (50, 'No'): [62, 106, 131, 165, 183, 233, 279, 367, 425, 477, 523, 539, 588, 653, 714, 721, 742, 751, 766, 867, 945, 1086, 1126, 1138, 1177], (50, 'Yes'): [36, 528, 801, 1452, 1461], (51, 'No'): [87, 91, 110, 123, 156, 189, 213, 258, 299, 376, 616, 918, 930, 962, 971, 987, 1275], (51, 'Yes'): [136, 779], (52, 'No'): [190, 230, 237, 406, 408, 468, 561, 570, 587, 627, 699, 806, 994, 1000, 1434], (52, 'Yes'): [317, 749, 947], (53, 'No'): [18, 25, 152, 184, 280, 502, 534, 556, 624, 646, 649, 701, 760, 858, 1043, 1203, 1268], (53, 'Yes'): [1111, 1396], (54, 'No'): [95, 112, 219, 332, 392, 431, 510, 575, 728, 771, 890, 894, 1008, 1076, 1184, 1305, 1397, 1406], (55, 'No'): [65, 82, 187, 270, 283, 379, 445, 745, 774, 787, 914, 955, 1010, 1065, 1116, 1207, 1264, 1336, 1401], (55, 'Yes'): [568, 608, 975], (56, 'No'): [85, 175, 401, 552, 772, 851, 956, 976, 1023, 1371, 1441], (56, 'Yes'): [122, 1354, 1444], (57, 'No'): [163, 360, 424, 1053], (58, 'No'): [98, 157, 308, 674, 938, 1009, 1301, 1310, 1374], (58, 'Yes'): [126, 595, 660, 700, 966], (59, 'No'): [6, 63, 70, 105, 225, 232, 743, 758, 897, 919], (60, 'No'): [411, 427, 536, 879, 1209]}"
      ]
     },
     "execution_count": 67,
     "metadata": {},
     "output_type": "execute_result"
    }
   ],
   "source": [
    "attrition_data.groupby(['Age', 'Attrition']).groups"
   ]
  }
 ],
 "metadata": {
  "kernelspec": {
   "display_name": "Python 3 (ipykernel)",
   "language": "python",
   "name": "python3"
  },
  "language_info": {
   "codemirror_mode": {
    "name": "ipython",
    "version": 3
   },
   "file_extension": ".py",
   "mimetype": "text/x-python",
   "name": "python",
   "nbconvert_exporter": "python",
   "pygments_lexer": "ipython3",
   "version": "3.9.12"
  }
 },
 "nbformat": 4,
 "nbformat_minor": 5
}
